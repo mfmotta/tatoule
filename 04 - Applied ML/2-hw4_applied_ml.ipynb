{
 "cells": [
  {
   "cell_type": "markdown",
   "metadata": {},
   "source": [
    "# Homework 04 - Assignement 2\n",
    "\n",
    "_Goal_ :\n",
    "\n",
    "**We want to apply _unsupervised learning_ to the player-referee dyads dataset aggregated by player, to cluster the players in $n=2$ clusters. We will use `KMeans` technique to do so.**\n",
    "\n",
    "_Tools_ :\n",
    "\n",
    "**The tools used for this homework are :**\n",
    "* Pandas\n",
    "* Scikit Learn\n",
    "\n",
    "_Contents_ :\n",
    "\n",
    "* [1 - Importing data](#1---Importing-data)\n",
    "* [2 - Players clustering](#2---Players-clustering)\n",
    "\n",
    "---"
   ]
  },
  {
   "cell_type": "code",
   "execution_count": 1,
   "metadata": {
    "collapsed": true
   },
   "outputs": [],
   "source": [
    "import pandas as pd\n",
    "import numpy as np\n",
    "import matplotlib.pyplot as plt\n",
    "%matplotlib inline\n",
    "from datetime import datetime # needed for df.birthday\n",
    "import seaborn as sns\n",
    "sns.set_context('notebook')\n",
    "\n",
    "from sklearn import metrics\n",
    "from sklearn.cluster import KMeans\n",
    "from sklearn.preprocessing import scale\n",
    "from sklearn.preprocessing import LabelEncoder\n",
    "from sklearn.metrics import silhouette_score"
   ]
  },
  {
   "cell_type": "markdown",
   "metadata": {},
   "source": [
    "# 1 - Importing data\n",
    "\n",
    "## Loading and cleaning dataset\n",
    "\n",
    "As usual, we begin by loading and cleaning a bit our dataset."
   ]
  },
  {
   "cell_type": "code",
   "execution_count": 2,
   "metadata": {
    "collapsed": false,
    "scrolled": false
   },
   "outputs": [
    {
     "name": "stdout",
     "output_type": "stream",
     "text": [
      "(115457, 25)\n"
     ]
    },
    {
     "data": {
      "text/html": [
       "<div>\n",
       "<table border=\"1\" class=\"dataframe\">\n",
       "  <thead>\n",
       "    <tr style=\"text-align: right;\">\n",
       "      <th></th>\n",
       "      <th>playerShort</th>\n",
       "      <th>club</th>\n",
       "      <th>leagueCountry</th>\n",
       "      <th>birthday</th>\n",
       "      <th>height</th>\n",
       "      <th>weight</th>\n",
       "      <th>position</th>\n",
       "      <th>games</th>\n",
       "      <th>victories</th>\n",
       "      <th>ties</th>\n",
       "      <th>...</th>\n",
       "      <th>rater1</th>\n",
       "      <th>rater2</th>\n",
       "      <th>refNum</th>\n",
       "      <th>refCountry</th>\n",
       "      <th>meanIAT</th>\n",
       "      <th>nIAT</th>\n",
       "      <th>seIAT</th>\n",
       "      <th>meanExp</th>\n",
       "      <th>nExp</th>\n",
       "      <th>seExp</th>\n",
       "    </tr>\n",
       "  </thead>\n",
       "  <tbody>\n",
       "    <tr>\n",
       "      <th>0</th>\n",
       "      <td>lucas-wilchez</td>\n",
       "      <td>Real Zaragoza</td>\n",
       "      <td>Spain</td>\n",
       "      <td>31.08.1983</td>\n",
       "      <td>177.0</td>\n",
       "      <td>72.0</td>\n",
       "      <td>Attacking Midfielder</td>\n",
       "      <td>1</td>\n",
       "      <td>0</td>\n",
       "      <td>0</td>\n",
       "      <td>...</td>\n",
       "      <td>0.25</td>\n",
       "      <td>0.50</td>\n",
       "      <td>1</td>\n",
       "      <td>1</td>\n",
       "      <td>0.326391</td>\n",
       "      <td>712.0</td>\n",
       "      <td>0.000564</td>\n",
       "      <td>0.396000</td>\n",
       "      <td>750.0</td>\n",
       "      <td>0.002696</td>\n",
       "    </tr>\n",
       "    <tr>\n",
       "      <th>1</th>\n",
       "      <td>john-utaka</td>\n",
       "      <td>Montpellier HSC</td>\n",
       "      <td>France</td>\n",
       "      <td>08.01.1982</td>\n",
       "      <td>179.0</td>\n",
       "      <td>82.0</td>\n",
       "      <td>Right Winger</td>\n",
       "      <td>1</td>\n",
       "      <td>0</td>\n",
       "      <td>0</td>\n",
       "      <td>...</td>\n",
       "      <td>0.75</td>\n",
       "      <td>0.75</td>\n",
       "      <td>2</td>\n",
       "      <td>2</td>\n",
       "      <td>0.203375</td>\n",
       "      <td>40.0</td>\n",
       "      <td>0.010875</td>\n",
       "      <td>-0.204082</td>\n",
       "      <td>49.0</td>\n",
       "      <td>0.061504</td>\n",
       "    </tr>\n",
       "    <tr>\n",
       "      <th>5</th>\n",
       "      <td>aaron-hughes</td>\n",
       "      <td>Fulham FC</td>\n",
       "      <td>England</td>\n",
       "      <td>08.11.1979</td>\n",
       "      <td>182.0</td>\n",
       "      <td>71.0</td>\n",
       "      <td>Center Back</td>\n",
       "      <td>1</td>\n",
       "      <td>0</td>\n",
       "      <td>0</td>\n",
       "      <td>...</td>\n",
       "      <td>0.25</td>\n",
       "      <td>0.00</td>\n",
       "      <td>4</td>\n",
       "      <td>4</td>\n",
       "      <td>0.325185</td>\n",
       "      <td>127.0</td>\n",
       "      <td>0.003297</td>\n",
       "      <td>0.538462</td>\n",
       "      <td>130.0</td>\n",
       "      <td>0.013752</td>\n",
       "    </tr>\n",
       "    <tr>\n",
       "      <th>6</th>\n",
       "      <td>aleksandar-kolarov</td>\n",
       "      <td>Manchester City</td>\n",
       "      <td>England</td>\n",
       "      <td>10.11.1985</td>\n",
       "      <td>187.0</td>\n",
       "      <td>80.0</td>\n",
       "      <td>Left Fullback</td>\n",
       "      <td>1</td>\n",
       "      <td>1</td>\n",
       "      <td>0</td>\n",
       "      <td>...</td>\n",
       "      <td>0.00</td>\n",
       "      <td>0.25</td>\n",
       "      <td>4</td>\n",
       "      <td>4</td>\n",
       "      <td>0.325185</td>\n",
       "      <td>127.0</td>\n",
       "      <td>0.003297</td>\n",
       "      <td>0.538462</td>\n",
       "      <td>130.0</td>\n",
       "      <td>0.013752</td>\n",
       "    </tr>\n",
       "    <tr>\n",
       "      <th>7</th>\n",
       "      <td>alexander-tettey</td>\n",
       "      <td>Norwich City</td>\n",
       "      <td>England</td>\n",
       "      <td>04.04.1986</td>\n",
       "      <td>180.0</td>\n",
       "      <td>68.0</td>\n",
       "      <td>Defensive Midfielder</td>\n",
       "      <td>1</td>\n",
       "      <td>0</td>\n",
       "      <td>0</td>\n",
       "      <td>...</td>\n",
       "      <td>1.00</td>\n",
       "      <td>1.00</td>\n",
       "      <td>4</td>\n",
       "      <td>4</td>\n",
       "      <td>0.325185</td>\n",
       "      <td>127.0</td>\n",
       "      <td>0.003297</td>\n",
       "      <td>0.538462</td>\n",
       "      <td>130.0</td>\n",
       "      <td>0.013752</td>\n",
       "    </tr>\n",
       "  </tbody>\n",
       "</table>\n",
       "<p>5 rows × 25 columns</p>\n",
       "</div>"
      ],
      "text/plain": [
       "          playerShort             club leagueCountry    birthday  height  \\\n",
       "0       lucas-wilchez    Real Zaragoza         Spain  31.08.1983   177.0   \n",
       "1          john-utaka  Montpellier HSC        France  08.01.1982   179.0   \n",
       "5        aaron-hughes        Fulham FC       England  08.11.1979   182.0   \n",
       "6  aleksandar-kolarov  Manchester City       England  10.11.1985   187.0   \n",
       "7    alexander-tettey     Norwich City       England  04.04.1986   180.0   \n",
       "\n",
       "   weight              position  games  victories  ties    ...     rater1  \\\n",
       "0    72.0  Attacking Midfielder      1          0     0    ...       0.25   \n",
       "1    82.0          Right Winger      1          0     0    ...       0.75   \n",
       "5    71.0           Center Back      1          0     0    ...       0.25   \n",
       "6    80.0         Left Fullback      1          1     0    ...       0.00   \n",
       "7    68.0  Defensive Midfielder      1          0     0    ...       1.00   \n",
       "\n",
       "   rater2  refNum  refCountry   meanIAT   nIAT     seIAT   meanExp   nExp  \\\n",
       "0    0.50       1           1  0.326391  712.0  0.000564  0.396000  750.0   \n",
       "1    0.75       2           2  0.203375   40.0  0.010875 -0.204082   49.0   \n",
       "5    0.00       4           4  0.325185  127.0  0.003297  0.538462  130.0   \n",
       "6    0.25       4           4  0.325185  127.0  0.003297  0.538462  130.0   \n",
       "7    1.00       4           4  0.325185  127.0  0.003297  0.538462  130.0   \n",
       "\n",
       "      seExp  \n",
       "0  0.002696  \n",
       "1  0.061504  \n",
       "5  0.013752  \n",
       "6  0.013752  \n",
       "7  0.013752  \n",
       "\n",
       "[5 rows x 25 columns]"
      ]
     },
     "execution_count": 2,
     "metadata": {},
     "output_type": "execute_result"
    }
   ],
   "source": [
    "# Read dataset\n",
    "df = pd.read_csv('./CrowdstormingDataJuly1st.csv')\n",
    "\n",
    "# Remove redondant and useless features\n",
    "df = df.drop(['player','Alpha_3','photoID'],axis=1)\n",
    "\n",
    "# Drop NA\n",
    "df = df.dropna()\n",
    "\n",
    "print(df.shape)\n",
    "df.head()"
   ]
  },
  {
   "cell_type": "markdown",
   "metadata": {},
   "source": [
    "## Encoding categorical features\n",
    "\n",
    "In order to handle categorical features, we need to encode them. Here we choose a simple technique using a `LabelEncoder` that maps them to integer values. More advanced techniques include for example a `OneHotEncoder`."
   ]
  },
  {
   "cell_type": "code",
   "execution_count": 3,
   "metadata": {
    "collapsed": false,
    "scrolled": true
   },
   "outputs": [
    {
     "name": "stdout",
     "output_type": "stream",
     "text": [
      "Encoded categorical features : ['playerShort', 'club', 'leagueCountry', 'birthday', 'position']\n"
     ]
    },
    {
     "data": {
      "text/html": [
       "<div>\n",
       "<table border=\"1\" class=\"dataframe\">\n",
       "  <thead>\n",
       "    <tr style=\"text-align: right;\">\n",
       "      <th></th>\n",
       "      <th>playerShort</th>\n",
       "      <th>club</th>\n",
       "      <th>leagueCountry</th>\n",
       "      <th>birthday</th>\n",
       "      <th>height</th>\n",
       "      <th>weight</th>\n",
       "      <th>position</th>\n",
       "      <th>games</th>\n",
       "      <th>victories</th>\n",
       "      <th>ties</th>\n",
       "      <th>...</th>\n",
       "      <th>rater1</th>\n",
       "      <th>rater2</th>\n",
       "      <th>refNum</th>\n",
       "      <th>refCountry</th>\n",
       "      <th>meanIAT</th>\n",
       "      <th>nIAT</th>\n",
       "      <th>seIAT</th>\n",
       "      <th>meanExp</th>\n",
       "      <th>nExp</th>\n",
       "      <th>seExp</th>\n",
       "    </tr>\n",
       "  </thead>\n",
       "  <tbody>\n",
       "    <tr>\n",
       "      <th>0</th>\n",
       "      <td>790</td>\n",
       "      <td>66</td>\n",
       "      <td>3</td>\n",
       "      <td>1246</td>\n",
       "      <td>177.0</td>\n",
       "      <td>72.0</td>\n",
       "      <td>0</td>\n",
       "      <td>1</td>\n",
       "      <td>0</td>\n",
       "      <td>0</td>\n",
       "      <td>...</td>\n",
       "      <td>0.25</td>\n",
       "      <td>0.50</td>\n",
       "      <td>1</td>\n",
       "      <td>1</td>\n",
       "      <td>0.326391</td>\n",
       "      <td>712.0</td>\n",
       "      <td>0.000564</td>\n",
       "      <td>0.396000</td>\n",
       "      <td>750.0</td>\n",
       "      <td>0.002696</td>\n",
       "    </tr>\n",
       "    <tr>\n",
       "      <th>1</th>\n",
       "      <td>651</td>\n",
       "      <td>48</td>\n",
       "      <td>1</td>\n",
       "      <td>286</td>\n",
       "      <td>179.0</td>\n",
       "      <td>82.0</td>\n",
       "      <td>11</td>\n",
       "      <td>1</td>\n",
       "      <td>0</td>\n",
       "      <td>0</td>\n",
       "      <td>...</td>\n",
       "      <td>0.75</td>\n",
       "      <td>0.75</td>\n",
       "      <td>2</td>\n",
       "      <td>2</td>\n",
       "      <td>0.203375</td>\n",
       "      <td>40.0</td>\n",
       "      <td>0.010875</td>\n",
       "      <td>-0.204082</td>\n",
       "      <td>49.0</td>\n",
       "      <td>0.061504</td>\n",
       "    </tr>\n",
       "    <tr>\n",
       "      <th>5</th>\n",
       "      <td>0</td>\n",
       "      <td>33</td>\n",
       "      <td>0</td>\n",
       "      <td>322</td>\n",
       "      <td>182.0</td>\n",
       "      <td>71.0</td>\n",
       "      <td>1</td>\n",
       "      <td>1</td>\n",
       "      <td>0</td>\n",
       "      <td>0</td>\n",
       "      <td>...</td>\n",
       "      <td>0.25</td>\n",
       "      <td>0.00</td>\n",
       "      <td>4</td>\n",
       "      <td>4</td>\n",
       "      <td>0.325185</td>\n",
       "      <td>127.0</td>\n",
       "      <td>0.003297</td>\n",
       "      <td>0.538462</td>\n",
       "      <td>130.0</td>\n",
       "      <td>0.013752</td>\n",
       "    </tr>\n",
       "    <tr>\n",
       "      <th>6</th>\n",
       "      <td>39</td>\n",
       "      <td>45</td>\n",
       "      <td>0</td>\n",
       "      <td>400</td>\n",
       "      <td>187.0</td>\n",
       "      <td>80.0</td>\n",
       "      <td>6</td>\n",
       "      <td>1</td>\n",
       "      <td>1</td>\n",
       "      <td>0</td>\n",
       "      <td>...</td>\n",
       "      <td>0.00</td>\n",
       "      <td>0.25</td>\n",
       "      <td>4</td>\n",
       "      <td>4</td>\n",
       "      <td>0.325185</td>\n",
       "      <td>127.0</td>\n",
       "      <td>0.003297</td>\n",
       "      <td>0.538462</td>\n",
       "      <td>130.0</td>\n",
       "      <td>0.013752</td>\n",
       "    </tr>\n",
       "    <tr>\n",
       "      <th>7</th>\n",
       "      <td>54</td>\n",
       "      <td>51</td>\n",
       "      <td>0</td>\n",
       "      <td>142</td>\n",
       "      <td>180.0</td>\n",
       "      <td>68.0</td>\n",
       "      <td>4</td>\n",
       "      <td>1</td>\n",
       "      <td>0</td>\n",
       "      <td>0</td>\n",
       "      <td>...</td>\n",
       "      <td>1.00</td>\n",
       "      <td>1.00</td>\n",
       "      <td>4</td>\n",
       "      <td>4</td>\n",
       "      <td>0.325185</td>\n",
       "      <td>127.0</td>\n",
       "      <td>0.003297</td>\n",
       "      <td>0.538462</td>\n",
       "      <td>130.0</td>\n",
       "      <td>0.013752</td>\n",
       "    </tr>\n",
       "  </tbody>\n",
       "</table>\n",
       "<p>5 rows × 25 columns</p>\n",
       "</div>"
      ],
      "text/plain": [
       "   playerShort  club  leagueCountry  birthday  height  weight  position  \\\n",
       "0          790    66              3      1246   177.0    72.0         0   \n",
       "1          651    48              1       286   179.0    82.0        11   \n",
       "5            0    33              0       322   182.0    71.0         1   \n",
       "6           39    45              0       400   187.0    80.0         6   \n",
       "7           54    51              0       142   180.0    68.0         4   \n",
       "\n",
       "   games  victories  ties    ...     rater1  rater2  refNum  refCountry  \\\n",
       "0      1          0     0    ...       0.25    0.50       1           1   \n",
       "1      1          0     0    ...       0.75    0.75       2           2   \n",
       "5      1          0     0    ...       0.25    0.00       4           4   \n",
       "6      1          1     0    ...       0.00    0.25       4           4   \n",
       "7      1          0     0    ...       1.00    1.00       4           4   \n",
       "\n",
       "    meanIAT   nIAT     seIAT   meanExp   nExp     seExp  \n",
       "0  0.326391  712.0  0.000564  0.396000  750.0  0.002696  \n",
       "1  0.203375   40.0  0.010875 -0.204082   49.0  0.061504  \n",
       "5  0.325185  127.0  0.003297  0.538462  130.0  0.013752  \n",
       "6  0.325185  127.0  0.003297  0.538462  130.0  0.013752  \n",
       "7  0.325185  127.0  0.003297  0.538462  130.0  0.013752  \n",
       "\n",
       "[5 rows x 25 columns]"
      ]
     },
     "execution_count": 3,
     "metadata": {},
     "output_type": "execute_result"
    }
   ],
   "source": [
    "# Reference :\n",
    "# https://www.analyticsvidhya.com/blog/2016/07/practical-guide-data-preprocessing-python-scikit-learn/\n",
    "\n",
    "# Useful for aggregation step\n",
    "categorical_features = []\n",
    "\n",
    "# Instanciate the encoder\n",
    "le = LabelEncoder()\n",
    "\n",
    "# Iterate over columns, encode the categorical ones\n",
    "for col in df.columns.values:\n",
    "    if df[col].dtype == 'object':\n",
    "        # Remember it\n",
    "        categorical_features.append(col)\n",
    "        # Encode it\n",
    "        le.fit(df[col].values)\n",
    "        # Replace it\n",
    "        df[col] = le.transform(df[col])\n",
    "\n",
    "print('Encoded categorical features :', categorical_features)\n",
    "df.head()"
   ]
  },
  {
   "cell_type": "markdown",
   "metadata": {},
   "source": [
    "## Aggregating by player\n",
    "\n",
    "Since we want to cluster *players*, we need to aggregate our data. The canonical *pandas* way to do that is to use `group_by` followed by an application of functions on the grouped features. The last step is done with `agg` and by passing a dictionary of functions corresponding to features."
   ]
  },
  {
   "cell_type": "code",
   "execution_count": 4,
   "metadata": {
    "collapsed": false,
    "scrolled": false
   },
   "outputs": [
    {
     "data": {
      "text/html": [
       "<div>\n",
       "<table border=\"1\" class=\"dataframe\">\n",
       "  <thead>\n",
       "    <tr style=\"text-align: right;\">\n",
       "      <th></th>\n",
       "      <th>meanExp</th>\n",
       "      <th>defeats</th>\n",
       "      <th>seIAT</th>\n",
       "      <th>redCards</th>\n",
       "      <th>games</th>\n",
       "      <th>refNum</th>\n",
       "      <th>leagueCountry</th>\n",
       "      <th>birthday</th>\n",
       "      <th>nIAT</th>\n",
       "      <th>nExp</th>\n",
       "      <th>...</th>\n",
       "      <th>height</th>\n",
       "      <th>goals</th>\n",
       "      <th>ties</th>\n",
       "      <th>yellowReds</th>\n",
       "      <th>yellowCards</th>\n",
       "      <th>victories</th>\n",
       "      <th>playerShort</th>\n",
       "      <th>meanIAT</th>\n",
       "      <th>rater2</th>\n",
       "      <th>refCountry</th>\n",
       "    </tr>\n",
       "    <tr>\n",
       "      <th>playerShort</th>\n",
       "      <th></th>\n",
       "      <th></th>\n",
       "      <th></th>\n",
       "      <th></th>\n",
       "      <th></th>\n",
       "      <th></th>\n",
       "      <th></th>\n",
       "      <th></th>\n",
       "      <th></th>\n",
       "      <th></th>\n",
       "      <th></th>\n",
       "      <th></th>\n",
       "      <th></th>\n",
       "      <th></th>\n",
       "      <th></th>\n",
       "      <th></th>\n",
       "      <th></th>\n",
       "      <th></th>\n",
       "      <th></th>\n",
       "      <th></th>\n",
       "      <th></th>\n",
       "    </tr>\n",
       "  </thead>\n",
       "  <tbody>\n",
       "    <tr>\n",
       "      <th>0</th>\n",
       "      <td>0.494575</td>\n",
       "      <td>1.373494</td>\n",
       "      <td>0.000652</td>\n",
       "      <td>0.000000</td>\n",
       "      <td>3.939759</td>\n",
       "      <td>1612.656627</td>\n",
       "      <td>0</td>\n",
       "      <td>322</td>\n",
       "      <td>19710.156627</td>\n",
       "      <td>20637.277108</td>\n",
       "      <td>...</td>\n",
       "      <td>182.0</td>\n",
       "      <td>0.054217</td>\n",
       "      <td>1.078313</td>\n",
       "      <td>0.000000</td>\n",
       "      <td>0.114458</td>\n",
       "      <td>1.487952</td>\n",
       "      <td>0</td>\n",
       "      <td>0.346459</td>\n",
       "      <td>0.00</td>\n",
       "      <td>43.921687</td>\n",
       "    </tr>\n",
       "    <tr>\n",
       "      <th>1</th>\n",
       "      <td>0.449220</td>\n",
       "      <td>1.232323</td>\n",
       "      <td>0.000219</td>\n",
       "      <td>0.010101</td>\n",
       "      <td>3.393939</td>\n",
       "      <td>1662.515152</td>\n",
       "      <td>2</td>\n",
       "      <td>160</td>\n",
       "      <td>26104.292929</td>\n",
       "      <td>26864.454545</td>\n",
       "      <td>...</td>\n",
       "      <td>183.0</td>\n",
       "      <td>0.626263</td>\n",
       "      <td>0.737374</td>\n",
       "      <td>0.000000</td>\n",
       "      <td>0.424242</td>\n",
       "      <td>1.424242</td>\n",
       "      <td>1</td>\n",
       "      <td>0.348818</td>\n",
       "      <td>0.25</td>\n",
       "      <td>25.070707</td>\n",
       "    </tr>\n",
       "    <tr>\n",
       "      <th>2</th>\n",
       "      <td>0.491482</td>\n",
       "      <td>1.138614</td>\n",
       "      <td>0.000367</td>\n",
       "      <td>0.000000</td>\n",
       "      <td>4.079208</td>\n",
       "      <td>1598.871287</td>\n",
       "      <td>0</td>\n",
       "      <td>641</td>\n",
       "      <td>21234.861386</td>\n",
       "      <td>22238.742574</td>\n",
       "      <td>...</td>\n",
       "      <td>165.0</td>\n",
       "      <td>0.306931</td>\n",
       "      <td>0.960396</td>\n",
       "      <td>0.000000</td>\n",
       "      <td>0.108911</td>\n",
       "      <td>1.980198</td>\n",
       "      <td>2</td>\n",
       "      <td>0.345893</td>\n",
       "      <td>0.25</td>\n",
       "      <td>42.772277</td>\n",
       "    </tr>\n",
       "    <tr>\n",
       "      <th>3</th>\n",
       "      <td>0.514693</td>\n",
       "      <td>0.653846</td>\n",
       "      <td>0.003334</td>\n",
       "      <td>0.009615</td>\n",
       "      <td>2.500000</td>\n",
       "      <td>1668.500000</td>\n",
       "      <td>0</td>\n",
       "      <td>1077</td>\n",
       "      <td>38285.826923</td>\n",
       "      <td>39719.980769</td>\n",
       "      <td>...</td>\n",
       "      <td>178.0</td>\n",
       "      <td>0.375000</td>\n",
       "      <td>0.403846</td>\n",
       "      <td>0.000000</td>\n",
       "      <td>0.298077</td>\n",
       "      <td>1.442308</td>\n",
       "      <td>3</td>\n",
       "      <td>0.346821</td>\n",
       "      <td>0.00</td>\n",
       "      <td>45.067308</td>\n",
       "    </tr>\n",
       "    <tr>\n",
       "      <th>4</th>\n",
       "      <td>0.335587</td>\n",
       "      <td>1.162162</td>\n",
       "      <td>0.001488</td>\n",
       "      <td>0.054054</td>\n",
       "      <td>3.351351</td>\n",
       "      <td>1610.891892</td>\n",
       "      <td>1</td>\n",
       "      <td>677</td>\n",
       "      <td>2832.351351</td>\n",
       "      <td>2953.837838</td>\n",
       "      <td>...</td>\n",
       "      <td>180.0</td>\n",
       "      <td>0.027027</td>\n",
       "      <td>1.081081</td>\n",
       "      <td>0.108108</td>\n",
       "      <td>0.216216</td>\n",
       "      <td>1.108108</td>\n",
       "      <td>4</td>\n",
       "      <td>0.331600</td>\n",
       "      <td>0.25</td>\n",
       "      <td>17.189189</td>\n",
       "    </tr>\n",
       "  </tbody>\n",
       "</table>\n",
       "<p>5 rows × 25 columns</p>\n",
       "</div>"
      ],
      "text/plain": [
       "              meanExp   defeats     seIAT  redCards     games       refNum  \\\n",
       "playerShort                                                                  \n",
       "0            0.494575  1.373494  0.000652  0.000000  3.939759  1612.656627   \n",
       "1            0.449220  1.232323  0.000219  0.010101  3.393939  1662.515152   \n",
       "2            0.491482  1.138614  0.000367  0.000000  4.079208  1598.871287   \n",
       "3            0.514693  0.653846  0.003334  0.009615  2.500000  1668.500000   \n",
       "4            0.335587  1.162162  0.001488  0.054054  3.351351  1610.891892   \n",
       "\n",
       "             leagueCountry  birthday          nIAT          nExp     ...      \\\n",
       "playerShort                                                          ...       \n",
       "0                        0       322  19710.156627  20637.277108     ...       \n",
       "1                        2       160  26104.292929  26864.454545     ...       \n",
       "2                        0       641  21234.861386  22238.742574     ...       \n",
       "3                        0      1077  38285.826923  39719.980769     ...       \n",
       "4                        1       677   2832.351351   2953.837838     ...       \n",
       "\n",
       "             height     goals      ties  yellowReds  yellowCards  victories  \\\n",
       "playerShort                                                                   \n",
       "0             182.0  0.054217  1.078313    0.000000     0.114458   1.487952   \n",
       "1             183.0  0.626263  0.737374    0.000000     0.424242   1.424242   \n",
       "2             165.0  0.306931  0.960396    0.000000     0.108911   1.980198   \n",
       "3             178.0  0.375000  0.403846    0.000000     0.298077   1.442308   \n",
       "4             180.0  0.027027  1.081081    0.108108     0.216216   1.108108   \n",
       "\n",
       "             playerShort   meanIAT  rater2  refCountry  \n",
       "playerShort                                             \n",
       "0                      0  0.346459    0.00   43.921687  \n",
       "1                      1  0.348818    0.25   25.070707  \n",
       "2                      2  0.345893    0.25   42.772277  \n",
       "3                      3  0.346821    0.00   45.067308  \n",
       "4                      4  0.331600    0.25   17.189189  \n",
       "\n",
       "[5 rows x 25 columns]"
      ]
     },
     "execution_count": 4,
     "metadata": {},
     "output_type": "execute_result"
    }
   ],
   "source": [
    "# Function that given a 'group' feature, keeps the first one\n",
    "# In our case, the categorical features are unique / player\n",
    "def keep_first(x):\n",
    "    return x.unique()[0]\n",
    "\n",
    "# Define which operation to apply after grouping by player\n",
    "aggregation_fun = {c: np.mean for c in df.columns.values}\n",
    "aggregation_fun.pop('playerShort')\n",
    "for feat in categorical_features:\n",
    "    aggregation_fun[feat] = keep_first\n",
    "\n",
    "# Group by player\n",
    "player_group = df.groupby('playerShort').agg(aggregation_fun)\n",
    "player_group.head()"
   ]
  },
  {
   "cell_type": "markdown",
   "metadata": {},
   "source": [
    "# 2 - Players clustering\n",
    "\n",
    "In order to create 2 clusters of players, we will use here the unsupervised learning method k-means. In a first part we run a \"simple\" k-means clustering and discuss a bit the results, and then we iteratively remove features to see how the clustering evolves. \n",
    "\n",
    "## KMeans"
   ]
  },
  {
   "cell_type": "code",
   "execution_count": 5,
   "metadata": {
    "collapsed": false
   },
   "outputs": [],
   "source": [
    "# Preparing data (with 'usual' variable names)\n",
    "X = player_group.drop(['rater1', 'rater2'], axis=1)\n",
    "features = X.columns.values\n",
    "X = scale(X)\n",
    "y = round((player_group.rater1 + player_group.rater2)/2)"
   ]
  },
  {
   "cell_type": "code",
   "execution_count": 6,
   "metadata": {
    "collapsed": false,
    "scrolled": true
   },
   "outputs": [
    {
     "data": {
      "text/plain": [
       "KMeans(algorithm='auto', copy_x=True, init='k-means++', max_iter=300,\n",
       "    n_clusters=2, n_init=10, n_jobs=1, precompute_distances='auto',\n",
       "    random_state=None, tol=0.0001, verbose=0)"
      ]
     },
     "execution_count": 6,
     "metadata": {},
     "output_type": "execute_result"
    }
   ],
   "source": [
    "# Instanciate and fit KMeans\n",
    "km = KMeans(n_clusters=2)\n",
    "km.fit(X)"
   ]
  },
  {
   "cell_type": "markdown",
   "metadata": {},
   "source": [
    "Let's compute the silhouette score :"
   ]
  },
  {
   "cell_type": "code",
   "execution_count": 7,
   "metadata": {
    "collapsed": false
   },
   "outputs": [
    {
     "data": {
      "text/plain": [
       "0.13329014184911325"
      ]
     },
     "execution_count": 7,
     "metadata": {},
     "output_type": "execute_result"
    }
   ],
   "source": [
    "silhouette_score(X, km.labels_)"
   ]
  },
  {
   "cell_type": "markdown",
   "metadata": {},
   "source": [
    "From Scikit doc about silhouette score :\n",
    "> The best value is 1 and the worst value is -1. Values near 0 indicate overlapping clusters. Negative values generally indicate that a sample has been assigned to the wrong cluster, as a different cluster is more similar.\n",
    "\n",
    "This means that here we have somewhat overlapping clusters.\n",
    "\n",
    "Let's inspect a bit the clusters."
   ]
  },
  {
   "cell_type": "code",
   "execution_count": 8,
   "metadata": {
    "collapsed": false
   },
   "outputs": [
    {
     "data": {
      "text/plain": [
       "1419"
      ]
     },
     "execution_count": 8,
     "metadata": {},
     "output_type": "execute_result"
    }
   ],
   "source": [
    "# Number of labels...\n",
    "len(km.labels_)"
   ]
  },
  {
   "cell_type": "code",
   "execution_count": 9,
   "metadata": {
    "collapsed": false
   },
   "outputs": [
    {
     "data": {
      "text/plain": [
       "(1419, 25)"
      ]
     },
     "execution_count": 9,
     "metadata": {},
     "output_type": "execute_result"
    }
   ],
   "source": [
    "# ... which is indeed the number of players\n",
    "player_group.shape"
   ]
  },
  {
   "cell_type": "code",
   "execution_count": 10,
   "metadata": {
    "collapsed": true
   },
   "outputs": [],
   "source": [
    "# Indices of elements in each cluster\n",
    "idx_0 = km.labels_ == 0\n",
    "idx_1 = km.labels_ == 1"
   ]
  },
  {
   "cell_type": "code",
   "execution_count": 11,
   "metadata": {
    "collapsed": false
   },
   "outputs": [
    {
     "data": {
      "text/plain": [
       "474"
      ]
     },
     "execution_count": 11,
     "metadata": {},
     "output_type": "execute_result"
    }
   ],
   "source": [
    "# Number of elements in the cluster '0'\n",
    "sum(idx_0)"
   ]
  },
  {
   "cell_type": "code",
   "execution_count": 12,
   "metadata": {
    "collapsed": false
   },
   "outputs": [
    {
     "data": {
      "text/plain": [
       "945"
      ]
     },
     "execution_count": 12,
     "metadata": {},
     "output_type": "execute_result"
    }
   ],
   "source": [
    "# Number of elements in the cluster '1'\n",
    "sum(idx_1)"
   ]
  },
  {
   "cell_type": "markdown",
   "metadata": {},
   "source": [
    "Remembering our objective, we compute the percentage of players labeled as having a \"dark\" skin in each cluster :"
   ]
  },
  {
   "cell_type": "code",
   "execution_count": 13,
   "metadata": {
    "collapsed": false
   },
   "outputs": [
    {
     "data": {
      "text/plain": [
       "0.10548523206751055"
      ]
     },
     "execution_count": 13,
     "metadata": {},
     "output_type": "execute_result"
    }
   ],
   "source": [
    "# Percentage of 'dark skin' in cluster 0\n",
    "sum(y[idx_0])/len(y[idx_0])"
   ]
  },
  {
   "cell_type": "code",
   "execution_count": 14,
   "metadata": {
    "collapsed": false
   },
   "outputs": [
    {
     "data": {
      "text/plain": [
       "0.1873015873015873"
      ]
     },
     "execution_count": 14,
     "metadata": {},
     "output_type": "execute_result"
    }
   ],
   "source": [
    "# Percentage of 'dark skin' in cluster 1\n",
    "sum(y[idx_1])/len(y[idx_1])"
   ]
  },
  {
   "cell_type": "markdown",
   "metadata": {},
   "source": [
    "The two last percentages seem to indicate that there is no class with a lot more black / white people than the other."
   ]
  },
  {
   "cell_type": "markdown",
   "metadata": {
    "collapsed": true
   },
   "source": [
    "## Iteratively removing features\n",
    "\n",
    "Now, we remove features iteratively, and at each step perform again the clustering and compute the silhouette score."
   ]
  },
  {
   "cell_type": "code",
   "execution_count": 15,
   "metadata": {
    "collapsed": false
   },
   "outputs": [
    {
     "name": "stdout",
     "output_type": "stream",
     "text": [
      "Features : ['meanExp' 'defeats' 'seIAT' 'redCards' 'games' 'refNum' 'leagueCountry'\n",
      " 'birthday' 'nIAT' 'nExp' 'club' 'seExp' 'position' 'weight' 'height'\n",
      " 'goals' 'ties' 'yellowReds' 'yellowCards' 'victories' 'playerShort'\n",
      " 'meanIAT' 'refCountry']\n",
      "\t silhouette score = 0.139038852625\n",
      "\t % of 'dark' skin in cluster 0 : 0.181818181818\n",
      "\t % of 'dark' skin in cluster 1 : 0.117768595041\n",
      "\n",
      "\n",
      "Features : ['meanExp' 'defeats' 'seIAT' 'redCards' 'games' 'refNum' 'leagueCountry'\n",
      " 'birthday' 'nIAT' 'nExp' 'club' 'seExp' 'position' 'weight' 'height'\n",
      " 'goals' 'ties' 'yellowReds' 'yellowCards' 'victories' 'playerShort'\n",
      " 'meanIAT']\n",
      "\t silhouette score = 0.138277690799\n",
      "\t % of 'dark' skin in cluster 0 : 0.121863799283\n",
      "\t % of 'dark' skin in cluster 1 : 0.184668989547\n",
      "\n",
      "\n",
      "Features : ['meanExp' 'defeats' 'seIAT' 'redCards' 'games' 'refNum' 'leagueCountry'\n",
      " 'birthday' 'nIAT' 'nExp' 'club' 'seExp' 'position' 'weight' 'height'\n",
      " 'goals' 'ties' 'yellowReds' 'yellowCards' 'victories' 'playerShort']\n",
      "\t silhouette score = 0.146644459821\n",
      "\t % of 'dark' skin in cluster 0 : 0.125\n",
      "\t % of 'dark' skin in cluster 1 : 0.181714285714\n",
      "\n",
      "\n",
      "Features : ['meanExp' 'defeats' 'seIAT' 'redCards' 'games' 'refNum' 'leagueCountry'\n",
      " 'birthday' 'nIAT' 'nExp' 'club' 'seExp' 'position' 'weight' 'height'\n",
      " 'goals' 'ties' 'yellowReds' 'yellowCards' 'victories']\n",
      "\t silhouette score = 0.155203020511\n",
      "\t % of 'dark' skin in cluster 0 : 0.125461254613\n",
      "\t % of 'dark' skin in cluster 1 : 0.181299885975\n",
      "\n",
      "\n",
      "Features : ['meanExp' 'defeats' 'seIAT' 'redCards' 'games' 'refNum' 'leagueCountry'\n",
      " 'birthday' 'nIAT' 'nExp' 'club' 'seExp' 'position' 'weight' 'height'\n",
      " 'goals' 'ties' 'yellowReds' 'yellowCards']\n",
      "\t silhouette score = 0.159933485495\n",
      "\t % of 'dark' skin in cluster 0 : 0.177983539095\n",
      "\t % of 'dark' skin in cluster 1 : 0.120805369128\n",
      "\n",
      "\n",
      "Features : ['meanExp' 'defeats' 'seIAT' 'redCards' 'games' 'refNum' 'leagueCountry'\n",
      " 'birthday' 'nIAT' 'nExp' 'club' 'seExp' 'position' 'weight' 'height'\n",
      " 'goals' 'ties' 'yellowReds']\n",
      "\t silhouette score = 0.149219330371\n",
      "\t % of 'dark' skin in cluster 0 : 0.17677286742\n",
      "\t % of 'dark' skin in cluster 1 : 0.12331838565\n",
      "\n",
      "\n",
      "Features : ['meanExp' 'defeats' 'seIAT' 'redCards' 'games' 'refNum' 'leagueCountry'\n",
      " 'birthday' 'nIAT' 'nExp' 'club' 'seExp' 'position' 'weight' 'height'\n",
      " 'goals' 'ties']\n",
      "\t silhouette score = 0.146394793232\n",
      "\t % of 'dark' skin in cluster 0 : 0.175182481752\n",
      "\t % of 'dark' skin in cluster 1 : 0.128260869565\n",
      "\n",
      "\n",
      "Features : ['meanExp' 'defeats' 'seIAT' 'redCards' 'games' 'refNum' 'leagueCountry'\n",
      " 'birthday' 'nIAT' 'nExp' 'club' 'seExp' 'position' 'weight' 'height'\n",
      " 'goals']\n",
      "\t silhouette score = 0.116302449547\n",
      "\t % of 'dark' skin in cluster 0 : 0.146023468057\n",
      "\t % of 'dark' skin in cluster 1 : 0.176380368098\n",
      "\n",
      "\n",
      "Features : ['meanExp' 'defeats' 'seIAT' 'redCards' 'games' 'refNum' 'leagueCountry'\n",
      " 'birthday' 'nIAT' 'nExp' 'club' 'seExp' 'position' 'weight' 'height']\n",
      "\t silhouette score = 0.1181478045\n",
      "\t % of 'dark' skin in cluster 0 : 0.173076923077\n",
      "\t % of 'dark' skin in cluster 1 : 0.148048452221\n",
      "\n",
      "\n",
      "Features : ['meanExp' 'defeats' 'seIAT' 'redCards' 'games' 'refNum' 'leagueCountry'\n",
      " 'birthday' 'nIAT' 'nExp' 'club' 'seExp' 'position' 'weight']\n",
      "\t silhouette score = 0.146327756919\n",
      "\t % of 'dark' skin in cluster 0 : 0.118055555556\n",
      "\t % of 'dark' skin in cluster 1 : 0.178318135765\n",
      "\n",
      "\n",
      "Features : ['meanExp' 'defeats' 'seIAT' 'redCards' 'games' 'refNum' 'leagueCountry'\n",
      " 'birthday' 'nIAT' 'nExp' 'club' 'seExp' 'position']\n",
      "\t silhouette score = 0.139809199117\n",
      "\t % of 'dark' skin in cluster 0 : 0.106575963719\n",
      "\t % of 'dark' skin in cluster 1 : 0.184049079755\n",
      "\n",
      "\n",
      "Features : ['meanExp' 'defeats' 'seIAT' 'redCards' 'games' 'refNum' 'leagueCountry'\n",
      " 'birthday' 'nIAT' 'nExp' 'club' 'seExp']\n",
      "\t silhouette score = 0.160675635352\n",
      "\t % of 'dark' skin in cluster 0 : 0.186626746507\n",
      "\t % of 'dark' skin in cluster 1 : 0.0959232613909\n",
      "\n",
      "\n",
      "Features : ['meanExp' 'defeats' 'seIAT' 'redCards' 'games' 'refNum' 'leagueCountry'\n",
      " 'birthday' 'nIAT' 'nExp' 'club']\n",
      "\t silhouette score = 0.175947478417\n",
      "\t % of 'dark' skin in cluster 0 : 0.0995145631068\n",
      "\t % of 'dark' skin in cluster 1 : 0.184707050645\n",
      "\n",
      "\n",
      "Features : ['meanExp' 'defeats' 'seIAT' 'redCards' 'games' 'refNum' 'leagueCountry'\n",
      " 'birthday' 'nIAT' 'nExp']\n",
      "\t silhouette score = 0.200611075321\n",
      "\t % of 'dark' skin in cluster 0 : 0.184815184815\n",
      "\t % of 'dark' skin in cluster 1 : 0.1004784689\n",
      "\n",
      "\n",
      "Features : ['meanExp' 'defeats' 'seIAT' 'redCards' 'games' 'refNum' 'leagueCountry'\n",
      " 'birthday' 'nIAT']\n",
      "\t silhouette score = 0.212964989554\n",
      "\t % of 'dark' skin in cluster 0 : 0.183652875883\n",
      "\t % of 'dark' skin in cluster 1 : 0.105140186916\n",
      "\n",
      "\n",
      "Features : ['meanExp' 'defeats' 'seIAT' 'redCards' 'games' 'refNum' 'leagueCountry'\n",
      " 'birthday']\n",
      "\t silhouette score = 0.227985708439\n",
      "\t % of 'dark' skin in cluster 0 : 0.102088167053\n",
      "\t % of 'dark' skin in cluster 1 : 0.185222672065\n",
      "\n",
      "\n",
      "Features : ['meanExp' 'defeats' 'seIAT' 'redCards' 'games' 'refNum' 'leagueCountry']\n",
      "\t silhouette score = 0.272332193876\n",
      "\t % of 'dark' skin in cluster 0 : 0.182817182817\n",
      "\t % of 'dark' skin in cluster 1 : 0.105263157895\n",
      "\n",
      "\n",
      "Features : ['meanExp' 'defeats' 'seIAT' 'redCards' 'games' 'refNum']\n",
      "\t silhouette score = 0.316879727517\n",
      "\t % of 'dark' skin in cluster 0 : 0.180080482897\n",
      "\t % of 'dark' skin in cluster 1 : 0.112941176471\n",
      "\n",
      "\n",
      "Features : ['meanExp' 'defeats' 'seIAT' 'redCards' 'games']\n",
      "\t silhouette score = 0.370430526066\n",
      "\t % of 'dark' skin in cluster 0 : 0.177484787018\n",
      "\t % of 'dark' skin in cluster 1 : 0.120092378753\n",
      "\n",
      "\n",
      "Features : ['meanExp' 'defeats' 'seIAT' 'redCards']\n",
      "\t silhouette score = 0.398017175309\n",
      "\t % of 'dark' skin in cluster 0 : 0.167772511848\n",
      "\t % of 'dark' skin in cluster 1 : 0.137362637363\n",
      "\n",
      "\n",
      "Features : ['meanExp' 'defeats' 'seIAT']\n",
      "\t silhouette score = 0.443484684035\n",
      "\t % of 'dark' skin in cluster 0 : 0.17853560682\n",
      "\t % of 'dark' skin in cluster 1 : 0.116113744076\n",
      "\n",
      "\n",
      "Features : ['meanExp' 'defeats']\n",
      "\t silhouette score = 0.606988781872\n",
      "\t % of 'dark' skin in cluster 0 : 0.176938369781\n",
      "\t % of 'dark' skin in cluster 1 : 0.118644067797\n",
      "\n",
      "\n"
     ]
    }
   ],
   "source": [
    "# Total number of features\n",
    "num_features = len(features)\n",
    "\n",
    "# Instanciate KMeans\n",
    "km = KMeans(n_clusters=2)\n",
    "\n",
    "# Iteratively remove features\n",
    "for feature_num in range(num_features,1,-1):\n",
    "    # Fit KMeans\n",
    "    km.fit(X[:,1:feature_num])\n",
    "    \n",
    "    # Compute silhouette score\n",
    "    silhouette = silhouette_score(X[:,1:feature_num], km.labels_)\n",
    "    \n",
    "    # Indices of elements in each cluster\n",
    "    idx_0 = km.labels_ == 0\n",
    "    idx_1 = km.labels_ == 1\n",
    "    \n",
    "    # Percentage of 'dark skin' in cluster 0\n",
    "    dark0 = sum(y[idx_0])/len(y[idx_0])\n",
    "    # Percentage of 'dark skin' in cluster 1\n",
    "    dark1 = sum(y[idx_1])/len(y[idx_1])\n",
    "    \n",
    "    # Print summary\n",
    "    print(\"Features :\", features[:feature_num])\n",
    "    print(\"\\t silhouette score =\", silhouette)\n",
    "    print(\"\\t % of 'dark' skin in cluster 0 :\", dark0)\n",
    "    print(\"\\t % of 'dark' skin in cluster 1 :\", dark1)\n",
    "    print(\"\\n\")"
   ]
  },
  {
   "cell_type": "markdown",
   "metadata": {},
   "source": [
    "The last (two or three) iterations have a much higher silhouette score than the others... however player with dark and light skin colors don't really belong to different clusters !"
   ]
  }
 ],
 "metadata": {
  "kernelspec": {
   "display_name": "Python 3",
   "language": "python",
   "name": "python3"
  },
  "language_info": {
   "codemirror_mode": {
    "name": "ipython",
    "version": 3
   },
   "file_extension": ".py",
   "mimetype": "text/x-python",
   "name": "python",
   "nbconvert_exporter": "python",
   "pygments_lexer": "ipython3",
   "version": "3.5.2"
  }
 },
 "nbformat": 4,
 "nbformat_minor": 0
}
